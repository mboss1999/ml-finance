{
 "cells": [
  {
   "cell_type": "markdown",
   "metadata": {},
   "source": [
    "# Random Forests Trading\n",
    "A raondom forest model is trained on technical indicators about a stock to try to predict whether it will rise or fall."
   ]
  },
  {
   "cell_type": "markdown",
   "metadata": {},
   "source": [
    "## Data Aquisition\n",
    "Data aquired from Alpha Vantage using [this](https://github.com/RomelTorres/alpha_vantage) API wrapper, is loaded in. "
   ]
  },
  {
   "cell_type": "code",
   "execution_count": 1,
   "metadata": {},
   "outputs": [
    {
     "data": {
      "text/html": [
       "<div>\n",
       "<style scoped>\n",
       "    .dataframe tbody tr th:only-of-type {\n",
       "        vertical-align: middle;\n",
       "    }\n",
       "\n",
       "    .dataframe tbody tr th {\n",
       "        vertical-align: top;\n",
       "    }\n",
       "\n",
       "    .dataframe thead th {\n",
       "        text-align: right;\n",
       "    }\n",
       "</style>\n",
       "<table border=\"1\" class=\"dataframe\">\n",
       "  <thead>\n",
       "    <tr style=\"text-align: right;\">\n",
       "      <th></th>\n",
       "      <th>1. open</th>\n",
       "      <th>2. high</th>\n",
       "      <th>3. low</th>\n",
       "      <th>4. close</th>\n",
       "      <th>5. adjusted close</th>\n",
       "      <th>6. volume</th>\n",
       "      <th>7. dividend amount</th>\n",
       "      <th>8. split coefficient</th>\n",
       "      <th>Chaikin A/D</th>\n",
       "      <th>ADOSC</th>\n",
       "      <th>...</th>\n",
       "      <th>FastK</th>\n",
       "      <th>FastD</th>\n",
       "      <th>T3</th>\n",
       "      <th>TEMA</th>\n",
       "      <th>TRANGE</th>\n",
       "      <th>TRIMA</th>\n",
       "      <th>TRIX</th>\n",
       "      <th>ULTOSC</th>\n",
       "      <th>WILLR</th>\n",
       "      <th>WMA</th>\n",
       "    </tr>\n",
       "    <tr>\n",
       "      <th>date</th>\n",
       "      <th></th>\n",
       "      <th></th>\n",
       "      <th></th>\n",
       "      <th></th>\n",
       "      <th></th>\n",
       "      <th></th>\n",
       "      <th></th>\n",
       "      <th></th>\n",
       "      <th></th>\n",
       "      <th></th>\n",
       "      <th></th>\n",
       "      <th></th>\n",
       "      <th></th>\n",
       "      <th></th>\n",
       "      <th></th>\n",
       "      <th></th>\n",
       "      <th></th>\n",
       "      <th></th>\n",
       "      <th></th>\n",
       "      <th></th>\n",
       "      <th></th>\n",
       "    </tr>\n",
       "  </thead>\n",
       "  <tbody>\n",
       "    <tr>\n",
       "      <th>2000-07-13</th>\n",
       "      <td>58.50</td>\n",
       "      <td>60.63</td>\n",
       "      <td>54.75</td>\n",
       "      <td>56.50</td>\n",
       "      <td>3.5111</td>\n",
       "      <td>7958200.0</td>\n",
       "      <td>0.0</td>\n",
       "      <td>1.0</td>\n",
       "      <td>-6.993677e+06</td>\n",
       "      <td>1.197934e+06</td>\n",
       "      <td>...</td>\n",
       "      <td>51.4118</td>\n",
       "      <td>74.5177</td>\n",
       "      <td>63.2028</td>\n",
       "      <td>50.3987</td>\n",
       "      <td>5.88</td>\n",
       "      <td>57.3068</td>\n",
       "      <td>-1.4884</td>\n",
       "      <td>49.2928</td>\n",
       "      <td>-87.3504</td>\n",
       "      <td>56.5547</td>\n",
       "    </tr>\n",
       "    <tr>\n",
       "      <th>2000-07-14</th>\n",
       "      <td>57.13</td>\n",
       "      <td>59.00</td>\n",
       "      <td>56.88</td>\n",
       "      <td>57.69</td>\n",
       "      <td>3.5850</td>\n",
       "      <td>3397800.0</td>\n",
       "      <td>0.0</td>\n",
       "      <td>1.0</td>\n",
       "      <td>-7.795045e+06</td>\n",
       "      <td>5.674957e+05</td>\n",
       "      <td>...</td>\n",
       "      <td>57.2674</td>\n",
       "      <td>68.2777</td>\n",
       "      <td>61.4367</td>\n",
       "      <td>51.3243</td>\n",
       "      <td>2.50</td>\n",
       "      <td>55.9240</td>\n",
       "      <td>-1.5015</td>\n",
       "      <td>52.9064</td>\n",
       "      <td>-85.1593</td>\n",
       "      <td>56.1104</td>\n",
       "    </tr>\n",
       "    <tr>\n",
       "      <th>2000-07-17</th>\n",
       "      <td>58.25</td>\n",
       "      <td>58.81</td>\n",
       "      <td>57.13</td>\n",
       "      <td>58.31</td>\n",
       "      <td>3.6236</td>\n",
       "      <td>4642900.0</td>\n",
       "      <td>0.0</td>\n",
       "      <td>1.0</td>\n",
       "      <td>-5.915776e+06</td>\n",
       "      <td>8.559479e+05</td>\n",
       "      <td>...</td>\n",
       "      <td>60.5442</td>\n",
       "      <td>56.4078</td>\n",
       "      <td>59.8141</td>\n",
       "      <td>52.3390</td>\n",
       "      <td>1.68</td>\n",
       "      <td>54.9689</td>\n",
       "      <td>-1.5067</td>\n",
       "      <td>52.5066</td>\n",
       "      <td>-84.0177</td>\n",
       "      <td>55.8904</td>\n",
       "    </tr>\n",
       "    <tr>\n",
       "      <th>2000-07-18</th>\n",
       "      <td>58.50</td>\n",
       "      <td>58.88</td>\n",
       "      <td>56.88</td>\n",
       "      <td>57.25</td>\n",
       "      <td>3.5577</td>\n",
       "      <td>5685800.0</td>\n",
       "      <td>0.0</td>\n",
       "      <td>1.0</td>\n",
       "      <td>-9.497830e+06</td>\n",
       "      <td>-2.436069e+05</td>\n",
       "      <td>...</td>\n",
       "      <td>42.5170</td>\n",
       "      <td>53.4429</td>\n",
       "      <td>58.3382</td>\n",
       "      <td>52.9791</td>\n",
       "      <td>2.00</td>\n",
       "      <td>54.4025</td>\n",
       "      <td>-1.5060</td>\n",
       "      <td>48.7458</td>\n",
       "      <td>-85.9694</td>\n",
       "      <td>55.7260</td>\n",
       "    </tr>\n",
       "    <tr>\n",
       "      <th>2000-07-19</th>\n",
       "      <td>55.19</td>\n",
       "      <td>56.81</td>\n",
       "      <td>51.75</td>\n",
       "      <td>52.69</td>\n",
       "      <td>3.2743</td>\n",
       "      <td>8176300.0</td>\n",
       "      <td>0.0</td>\n",
       "      <td>1.0</td>\n",
       "      <td>-1.463630e+07</td>\n",
       "      <td>-2.306245e+06</td>\n",
       "      <td>...</td>\n",
       "      <td>10.5856</td>\n",
       "      <td>37.8823</td>\n",
       "      <td>56.9920</td>\n",
       "      <td>52.3944</td>\n",
       "      <td>5.50</td>\n",
       "      <td>54.2394</td>\n",
       "      <td>-1.5045</td>\n",
       "      <td>39.9646</td>\n",
       "      <td>-72.1818</td>\n",
       "      <td>55.3147</td>\n",
       "    </tr>\n",
       "  </tbody>\n",
       "</table>\n",
       "<p>5 rows × 68 columns</p>\n",
       "</div>"
      ],
      "text/plain": [
       "            1. open  2. high  3. low  4. close  5. adjusted close  6. volume  \\\n",
       "date                                                                           \n",
       "2000-07-13    58.50    60.63   54.75     56.50             3.5111  7958200.0   \n",
       "2000-07-14    57.13    59.00   56.88     57.69             3.5850  3397800.0   \n",
       "2000-07-17    58.25    58.81   57.13     58.31             3.6236  4642900.0   \n",
       "2000-07-18    58.50    58.88   56.88     57.25             3.5577  5685800.0   \n",
       "2000-07-19    55.19    56.81   51.75     52.69             3.2743  8176300.0   \n",
       "\n",
       "            7. dividend amount  8. split coefficient   Chaikin A/D  \\\n",
       "date                                                                 \n",
       "2000-07-13                 0.0                   1.0 -6.993677e+06   \n",
       "2000-07-14                 0.0                   1.0 -7.795045e+06   \n",
       "2000-07-17                 0.0                   1.0 -5.915776e+06   \n",
       "2000-07-18                 0.0                   1.0 -9.497830e+06   \n",
       "2000-07-19                 0.0                   1.0 -1.463630e+07   \n",
       "\n",
       "                   ADOSC  ...    FastK    FastD       T3     TEMA  TRANGE  \\\n",
       "date                      ...                                               \n",
       "2000-07-13  1.197934e+06  ...  51.4118  74.5177  63.2028  50.3987    5.88   \n",
       "2000-07-14  5.674957e+05  ...  57.2674  68.2777  61.4367  51.3243    2.50   \n",
       "2000-07-17  8.559479e+05  ...  60.5442  56.4078  59.8141  52.3390    1.68   \n",
       "2000-07-18 -2.436069e+05  ...  42.5170  53.4429  58.3382  52.9791    2.00   \n",
       "2000-07-19 -2.306245e+06  ...  10.5856  37.8823  56.9920  52.3944    5.50   \n",
       "\n",
       "              TRIMA    TRIX   ULTOSC    WILLR      WMA  \n",
       "date                                                    \n",
       "2000-07-13  57.3068 -1.4884  49.2928 -87.3504  56.5547  \n",
       "2000-07-14  55.9240 -1.5015  52.9064 -85.1593  56.1104  \n",
       "2000-07-17  54.9689 -1.5067  52.5066 -84.0177  55.8904  \n",
       "2000-07-18  54.4025 -1.5060  48.7458 -85.9694  55.7260  \n",
       "2000-07-19  54.2394 -1.5045  39.9646 -72.1818  55.3147  \n",
       "\n",
       "[5 rows x 68 columns]"
      ]
     },
     "execution_count": 1,
     "metadata": {},
     "output_type": "execute_result"
    }
   ],
   "source": [
    "import get_data\n",
    "\n",
    "symbol = 'AAPL'\n",
    "\n",
    "data = get_data.get_data(symbol)\n",
    "data = data.sort_values('date')\n",
    "data.head()"
   ]
  },
  {
   "cell_type": "markdown",
   "metadata": {},
   "source": [
    "## Data Preprocessing\n",
    "The data is preprocessed so that is can be used by `sklearn`. We begin by adding a column to `data` for the label. The label will be 1 if the price went up the next day of 0 if it went down."
   ]
  },
  {
   "cell_type": "code",
   "execution_count": 2,
   "metadata": {},
   "outputs": [],
   "source": [
    "import numpy as np\n",
    "\n",
    "cl = data['5. adjusted close'].values\n",
    "ncl = cl[1:]\n",
    "\n",
    "sign = (ncl - cl[:-1] > 0).astype(int)\n",
    "\n",
    "data = data.iloc[:-1]\n",
    "data['Price Direction'] = sign\n",
    "\n",
    "X = data.loc[:, :'WMA']\n",
    "y = data.loc[:, 'Price Direction']\n",
    "\n",
    "test = data.loc['2011':'2020']\n",
    "Xtest = test.loc[:, :'WMA']\n",
    "ytest = test.loc[:, 'Price Direction']\n",
    "\n",
    "train = data.loc[:'2010']\n",
    "Xtrain = train.loc[:, :'WMA']\n",
    "ytrain = train.loc[:, 'Price Direction']"
   ]
  },
  {
   "cell_type": "markdown",
   "metadata": {},
   "source": [
    "## Modeling\n",
    "A random forest is trained on the data."
   ]
  },
  {
   "cell_type": "code",
   "execution_count": 3,
   "metadata": {},
   "outputs": [
    {
     "name": "stdout",
     "output_type": "stream",
     "text": [
      "Fitting 5 folds for each of 32 candidates, totalling 160 fits\n"
     ]
    },
    {
     "name": "stderr",
     "output_type": "stream",
     "text": [
      "[Parallel(n_jobs=-1)]: Using backend LokyBackend with 4 concurrent workers.\n",
      "[Parallel(n_jobs=-1)]: Done  33 tasks      | elapsed:   21.4s\n",
      "[Parallel(n_jobs=-1)]: Done 160 out of 160 | elapsed:  5.8min finished\n"
     ]
    },
    {
     "data": {
      "text/plain": [
       "{'criterion': 'gini', 'max_features': 'auto', 'n_estimators': 150}"
      ]
     },
     "execution_count": 3,
     "metadata": {},
     "output_type": "execute_result"
    }
   ],
   "source": [
    "from sklearn.ensemble import RandomForestClassifier\n",
    "from sklearn.model_selection import GridSearchCV\n",
    "\n",
    "rfc = RandomForestClassifier(n_jobs=-1)\n",
    "gd_sr = GridSearchCV(estimator=rfc,\n",
    "                    param_grid={'n_estimators': [150, 100, 150, 200],\n",
    "                               'criterion': ['gini', 'entropy'],\n",
    "                               'max_features': ['auto', 'sqrt', 'log2', None]},\n",
    "                    verbose=2,\n",
    "                    n_jobs=-1)\n",
    "\n",
    "gd_sr.fit(Xtrain.values, ytrain.values)\n",
    "gd_sr.best_params_"
   ]
  },
  {
   "cell_type": "markdown",
   "metadata": {},
   "source": [
    "## Model Evaluation\n",
    "The model is evaluated on the test data"
   ]
  },
  {
   "cell_type": "code",
   "execution_count": 4,
   "metadata": {},
   "outputs": [
    {
     "name": "stdout",
     "output_type": "stream",
     "text": [
      "The model had an accurracy of 51.40105078809106 % on the test data.\n"
     ]
    }
   ],
   "source": [
    "model = gd_sr.best_estimator_\n",
    "acc = model.score(Xtest, ytest) * 100\n",
    "\n",
    "print(f'The model had an accurracy of {acc} % on the test data.')"
   ]
  },
  {
   "cell_type": "markdown",
   "metadata": {},
   "source": [
    "## Simulated Trading\n",
    "The model is used to simulate trading in 2019 and 2020."
   ]
  },
  {
   "cell_type": "code",
   "execution_count": 5,
   "metadata": {},
   "outputs": [
    {
     "name": "stdout",
     "output_type": "stream",
     "text": [
      "The ROI of the alogrithim is 3917.312321476528 %, when a buy and hold strategy had an ROI of 690.6789385024778 %.\n"
     ]
    },
    {
     "data": {
      "image/png": "[encoded data removed]",
      "text/plain": [
       "<Figure size 1080x576 with 1 Axes>"
      ]
     },
     "metadata": {},
     "output_type": "display_data"
    }
   ],
   "source": [
    "import matplotlib.pyplot as plt\n",
    "import seaborn as sns; sns.set()\n",
    "\n",
    "buy = np.zeros_like(ytest.values, dtype=bool)\n",
    "sell = buy.copy()\n",
    "\n",
    "d = Xtest.index\n",
    "p = Xtest['5. adjusted close']\n",
    "\n",
    "profit = 0\n",
    "\n",
    "if ytest.iloc[0]:\n",
    "    buy[0] = True\n",
    "    up = True\n",
    "    pb = p.iloc[0]\n",
    "else:\n",
    "    sell[0] = True\n",
    "    up = False\n",
    "    \n",
    "for i in range(1, ytest.size):\n",
    "    if ytest.iloc[i]:\n",
    "        if not up:\n",
    "            buy[i] = True\n",
    "            pb = p.iloc[i]\n",
    "        up = True\n",
    "    else:\n",
    "        if up:\n",
    "            sell[i] = True\n",
    "            profit += p.iloc[i] - pb\n",
    "        up = False\n",
    "        \n",
    "# Plot price, buy, and sell\n",
    "plt.figure(figsize=(15, 8))\n",
    "plt.plot(d, p, label='adjusted close')\n",
    "plt.scatter(d[buy], p[buy], c='green', label='buy', alpha=.75)\n",
    "plt.scatter(d[sell], p[sell], c='red', label='sell', alpha=.75)\n",
    "\n",
    "\n",
    "# Title and labels\n",
    "plt.title(symbol + \" Price Preditcion\")\n",
    "plt.xlabel('Date')\n",
    "plt.ylabel('Price (USD)')\n",
    "plt.xticks(rotation=30)\n",
    "plt.legend();\n",
    "\n",
    "pi = p[buy].iloc[0]\n",
    "ROI = profit/pi*100\n",
    "\n",
    "ROIm = (p[-1] - pi)/pi * 100\n",
    "\n",
    "print(f'The ROI of the alogrithim is {ROI} %, when a buy and hold strategy\\\n",
    " had an ROI of {ROIm} %.')"
   ]
  }
 ],
 "metadata": {
  "kernelspec": {
   "display_name": "Python 3",
   "language": "python",
   "name": "python3"
  },
  "language_info": {
   "codemirror_mode": {
    "name": "ipython",
    "version": 3
   },
   "file_extension": ".py",
   "mimetype": "text/x-python",
   "name": "python",
   "nbconvert_exporter": "python",
   "pygments_lexer": "ipython3",
   "version": "3.7.4"
  }
 },
 "nbformat": 4,
 "nbformat_minor": 4
}
