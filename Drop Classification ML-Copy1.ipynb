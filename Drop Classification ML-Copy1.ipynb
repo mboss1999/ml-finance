{
 "cells": [
  {
   "cell_type": "code",
   "execution_count": 13,
   "metadata": {},
   "outputs": [],
   "source": [
    "import get_data\n",
    "from sklearn.ensemble import RandomForestClassifier\n",
    "import pandas as pd\n",
    "from random import random"
   ]
  },
  {
   "cell_type": "markdown",
   "metadata": {},
   "source": [
    "# AAPL Example"
   ]
  },
  {
   "cell_type": "markdown",
   "metadata": {},
   "source": [
    "We first get all the relevant data. We care about adjusted close and all technical indicators. The variables `drop_days`, `drop_percent`, and `rec_days` are used for the label and selecting rows for the dataset. BUT FIRST pick start and end dates."
   ]
  },
  {
   "cell_type": "code",
   "execution_count": 14,
   "metadata": {},
   "outputs": [
    {
     "name": "stdout",
     "output_type": "stream",
     "text": [
      "2009-12-30 00:00:00\n"
     ]
    }
   ],
   "source": [
    "all_data = get_data.get_data('AAPL').sort_values('date').drop([\"1. open\", \"2. high\", \"3. low\", \"4. close\", \"6. volume\", \"7. dividend amount\", \"8. split coefficient\"], axis=1)\n",
    "all_data['recovered'] = 0\n",
    "all_data['drop'] = 0\n",
    "all_data['in range'] = 0\n",
    "all_data['test'] = [1 if random() < 0.7 else 0 for n in range(len(all_data))]\n",
    "\n",
    "start_ind = 2380 # 3639 is 5 years, 2380 is 10 years\n",
    "print(all_data.index[start_ind]) "
   ]
  },
  {
   "cell_type": "code",
   "execution_count": 15,
   "metadata": {},
   "outputs": [
    {
     "name": "stderr",
     "output_type": "stream",
     "text": [
      "C:\\Users\\yugan\\Anaconda3\\lib\\site-packages\\ipykernel_launcher.py:8: SettingWithCopyWarning: \n",
      "A value is trying to be set on a copy of a slice from a DataFrame\n",
      "\n",
      "See the caveats in the documentation: http://pandas.pydata.org/pandas-docs/stable/user_guide/indexing.html#returning-a-view-versus-a-copy\n",
      "  \n",
      "C:\\Users\\yugan\\Anaconda3\\lib\\site-packages\\ipykernel_launcher.py:11: SettingWithCopyWarning: \n",
      "A value is trying to be set on a copy of a slice from a DataFrame\n",
      "\n",
      "See the caveats in the documentation: http://pandas.pydata.org/pandas-docs/stable/user_guide/indexing.html#returning-a-view-versus-a-copy\n",
      "  # This is added back by InteractiveShellApp.init_path()\n",
      "C:\\Users\\yugan\\Anaconda3\\lib\\site-packages\\ipykernel_launcher.py:15: SettingWithCopyWarning: \n",
      "A value is trying to be set on a copy of a slice from a DataFrame\n",
      "\n",
      "See the caveats in the documentation: http://pandas.pydata.org/pandas-docs/stable/user_guide/indexing.html#returning-a-view-versus-a-copy\n",
      "  from ipykernel import kernelapp as app\n"
     ]
    },
    {
     "data": {
      "text/plain": [
       "True"
      ]
     },
     "execution_count": 15,
     "metadata": {},
     "output_type": "execute_result"
    }
   ],
   "source": [
    "final_set = []\n",
    "rec_days = 30\n",
    "\n",
    "drops = 0\n",
    "recs = 0\n",
    "for n in range(start_ind, len(all_data) - rec_days):\n",
    "    date = all_data.index[n]\n",
    "    all_data['in range'][n] = 1\n",
    "    \n",
    "    if all_data[\"5. adjusted close\"][n-1] > all_data[\"5. adjusted close\"][n]:\n",
    "        all_data['drop'][n] = 1\n",
    "        drops += 1\n",
    "        if all_data[\"5. adjusted close\"][n + rec_days] > all_data[\"5. adjusted close\"][n]:\n",
    "            recs += 1\n",
    "            all_data['recovered'][n] = 1\n",
    "\n",
    "\n",
    "train_data = all_data[all_data['in range'] == 1]\n",
    "train_data = all_data[all_data['drop'] == 1]\n",
    "train_data = train_data.drop(columns=['drop', 'in range', '5. adjusted close'])\n",
    "len(train_data) == drops"
   ]
  },
  {
   "cell_type": "markdown",
   "metadata": {},
   "source": [
    "## Training\n",
    "We train the model. First, divide the training data into training and test data. Then preprocess."
   ]
  },
  {
   "cell_type": "code",
   "execution_count": 16,
   "metadata": {},
   "outputs": [
    {
     "name": "stdout",
     "output_type": "stream",
     "text": [
      "832 345\n"
     ]
    }
   ],
   "source": [
    "test_data = train_data[train_data['test'] == 1].drop(columns=['test'])\n",
    "train_data = train_data[train_data['test'] == 0].drop(columns=['test'])\n",
    "print(len(test_data), len(train_data))"
   ]
  },
  {
   "cell_type": "markdown",
   "metadata": {},
   "source": [
    "Train the model."
   ]
  },
  {
   "cell_type": "code",
   "execution_count": 17,
   "metadata": {},
   "outputs": [
    {
     "data": {
      "text/plain": [
       "True"
      ]
     },
     "execution_count": 17,
     "metadata": {},
     "output_type": "execute_result"
    }
   ],
   "source": [
    "features = train_data.columns[:-1] # everything but 'recovered' is a feature\n",
    "y = train_data['recovered']\n",
    "\n",
    "rfc = RandomForestClassifier(n_jobs=-1, n_estimators = 1000)\n",
    "rfc.fit(train_data[features], y)\n",
    "predictions = rfc.predict(test_data[features])\n",
    "len(predictions) == len(test_data)"
   ]
  },
  {
   "cell_type": "code",
   "execution_count": 18,
   "metadata": {},
   "outputs": [
    {
     "data": {
      "text/plain": [
       "0.8040865384615384"
      ]
     },
     "execution_count": 18,
     "metadata": {},
     "output_type": "execute_result"
    }
   ],
   "source": [
    "eval = []\n",
    "for n in range(len(predictions)):\n",
    "    eval.append(int(predictions[n] == test_data['recovered'][n]))\n",
    "sum(eval) / len(eval)"
   ]
  }
 ],
 "metadata": {
  "kernelspec": {
   "display_name": "Python 3",
   "language": "python",
   "name": "python3"
  },
  "language_info": {
   "codemirror_mode": {
    "name": "ipython",
    "version": 3
   },
   "file_extension": ".py",
   "mimetype": "text/x-python",
   "name": "python",
   "nbconvert_exporter": "python",
   "pygments_lexer": "ipython3",
   "version": "3.7.4"
  }
 },
 "nbformat": 4,
 "nbformat_minor": 2
}
