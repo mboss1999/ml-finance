{
 "cells": [
  {
   "cell_type": "markdown",
   "metadata": {},
   "source": [
    "# yfinance Tutorial\n",
    "This is a guide showing what kind of data can be obtained using yfinance."
   ]
  },
  {
   "cell_type": "markdown",
   "metadata": {},
   "source": [
    "## Initialization\n",
    "First, yfinance is imported."
   ]
  },
  {
   "cell_type": "code",
   "execution_count": 1,
   "metadata": {},
   "outputs": [],
   "source": [
    "import yfinance as yf\n",
    "import pandas as pd"
   ]
  },
  {
   "cell_type": "markdown",
   "metadata": {},
   "source": [
    "## Tickers\n",
    "The Ticker module allows access to data. A Ticker object can be created for a specfic stock as follows."
   ]
  },
  {
   "cell_type": "code",
   "execution_count": 2,
   "metadata": {},
   "outputs": [],
   "source": [
    "msft = yf.Ticker(\"MSFT\")"
   ]
  },
  {
   "cell_type": "markdown",
   "metadata": {},
   "source": [
    "### Info\n",
    "The Ticker object has an atribute called info that is a dictionary. Here is everything that the dictionary contains."
   ]
  },
  {
   "cell_type": "code",
   "execution_count": 3,
   "metadata": {},
   "outputs": [
    {
     "data": {
      "text/plain": [
       "dict_keys(['zip', 'sector', 'fullTimeEmployees', 'longBusinessSummary', 'city', 'phone', 'state', 'country', 'companyOfficers', 'website', 'maxAge', 'address1', 'fax', 'industry', 'previousClose', 'regularMarketOpen', 'twoHundredDayAverage', 'trailingAnnualDividendYield', 'payoutRatio', 'volume24Hr', 'regularMarketDayHigh', 'navPrice', 'averageDailyVolume10Day', 'totalAssets', 'regularMarketPreviousClose', 'fiftyDayAverage', 'trailingAnnualDividendRate', 'open', 'averageVolume10days', 'expireDate', 'yield', 'algorithm', 'dividendRate', 'exDividendDate', 'beta', 'circulatingSupply', 'startDate', 'regularMarketDayLow', 'priceHint', 'currency', 'trailingPE', 'regularMarketVolume', 'lastMarket', 'maxSupply', 'openInterest', 'marketCap', 'volumeAllCurrencies', 'strikePrice', 'averageVolume', 'priceToSalesTrailing12Months', 'dayLow', 'ask', 'ytdReturn', 'askSize', 'volume', 'fiftyTwoWeekHigh', 'forwardPE', 'fromCurrency', 'fiveYearAvgDividendYield', 'fiftyTwoWeekLow', 'bid', 'tradeable', 'dividendYield', 'bidSize', 'dayHigh', 'exchange', 'shortName', 'longName', 'exchangeTimezoneName', 'exchangeTimezoneShortName', 'isEsgPopulated', 'gmtOffSetMilliseconds', 'quoteType', 'symbol', 'messageBoardId', 'market', 'annualHoldingsTurnover', 'enterpriseToRevenue', 'beta3Year', 'profitMargins', 'enterpriseToEbitda', '52WeekChange', 'morningStarRiskRating', 'forwardEps', 'revenueQuarterlyGrowth', 'sharesOutstanding', 'fundInceptionDate', 'annualReportExpenseRatio', 'bookValue', 'sharesShort', 'sharesPercentSharesOut', 'fundFamily', 'lastFiscalYearEnd', 'heldPercentInstitutions', 'netIncomeToCommon', 'trailingEps', 'lastDividendValue', 'SandP52WeekChange', 'priceToBook', 'heldPercentInsiders', 'nextFiscalYearEnd', 'mostRecentQuarter', 'shortRatio', 'sharesShortPreviousMonthDate', 'floatShares', 'enterpriseValue', 'threeYearAverageReturn', 'lastSplitDate', 'lastSplitFactor', 'legalType', 'morningStarOverallRating', 'earningsQuarterlyGrowth', 'dateShortInterest', 'pegRatio', 'lastCapGain', 'shortPercentOfFloat', 'sharesShortPriorMonth', 'category', 'fiveYearAverageReturn', 'regularMarketPrice', 'logo_url'])"
      ]
     },
     "execution_count": 3,
     "metadata": {},
     "output_type": "execute_result"
    }
   ],
   "source": [
    "msft.info.keys()"
   ]
  },
  {
   "cell_type": "markdown",
   "metadata": {},
   "source": [
    "### History\n",
    "The Ticker object has another attribute called history which gives historical data."
   ]
  },
  {
   "cell_type": "code",
   "execution_count": 4,
   "metadata": {},
   "outputs": [
    {
     "data": {
      "text/html": [
       "<div>\n",
       "<style scoped>\n",
       "    .dataframe tbody tr th:only-of-type {\n",
       "        vertical-align: middle;\n",
       "    }\n",
       "\n",
       "    .dataframe tbody tr th {\n",
       "        vertical-align: top;\n",
       "    }\n",
       "\n",
       "    .dataframe thead th {\n",
       "        text-align: right;\n",
       "    }\n",
       "</style>\n",
       "<table border=\"1\" class=\"dataframe\">\n",
       "  <thead>\n",
       "    <tr style=\"text-align: right;\">\n",
       "      <th></th>\n",
       "      <th>Open</th>\n",
       "      <th>High</th>\n",
       "      <th>Low</th>\n",
       "      <th>Close</th>\n",
       "      <th>Volume</th>\n",
       "      <th>Dividends</th>\n",
       "      <th>Stock Splits</th>\n",
       "    </tr>\n",
       "    <tr>\n",
       "      <th>Date</th>\n",
       "      <th></th>\n",
       "      <th></th>\n",
       "      <th></th>\n",
       "      <th></th>\n",
       "      <th></th>\n",
       "      <th></th>\n",
       "      <th></th>\n",
       "    </tr>\n",
       "  </thead>\n",
       "  <tbody>\n",
       "    <tr>\n",
       "      <th>2019-12-27</th>\n",
       "      <td>159.45</td>\n",
       "      <td>159.55</td>\n",
       "      <td>158.22</td>\n",
       "      <td>158.96</td>\n",
       "      <td>18412800</td>\n",
       "      <td>0</td>\n",
       "      <td>0</td>\n",
       "    </tr>\n",
       "    <tr>\n",
       "      <th>2019-12-30</th>\n",
       "      <td>158.99</td>\n",
       "      <td>159.02</td>\n",
       "      <td>156.73</td>\n",
       "      <td>157.59</td>\n",
       "      <td>16348400</td>\n",
       "      <td>0</td>\n",
       "      <td>0</td>\n",
       "    </tr>\n",
       "    <tr>\n",
       "      <th>2019-12-31</th>\n",
       "      <td>156.77</td>\n",
       "      <td>157.77</td>\n",
       "      <td>156.45</td>\n",
       "      <td>157.70</td>\n",
       "      <td>18369400</td>\n",
       "      <td>0</td>\n",
       "      <td>0</td>\n",
       "    </tr>\n",
       "    <tr>\n",
       "      <th>2020-01-02</th>\n",
       "      <td>158.78</td>\n",
       "      <td>160.73</td>\n",
       "      <td>158.33</td>\n",
       "      <td>160.62</td>\n",
       "      <td>22622100</td>\n",
       "      <td>0</td>\n",
       "      <td>0</td>\n",
       "    </tr>\n",
       "    <tr>\n",
       "      <th>2020-01-03</th>\n",
       "      <td>158.32</td>\n",
       "      <td>159.95</td>\n",
       "      <td>158.06</td>\n",
       "      <td>158.62</td>\n",
       "      <td>21116200</td>\n",
       "      <td>0</td>\n",
       "      <td>0</td>\n",
       "    </tr>\n",
       "  </tbody>\n",
       "</table>\n",
       "</div>"
      ],
      "text/plain": [
       "              Open    High     Low   Close    Volume  Dividends  Stock Splits\n",
       "Date                                                                         \n",
       "2019-12-27  159.45  159.55  158.22  158.96  18412800          0             0\n",
       "2019-12-30  158.99  159.02  156.73  157.59  16348400          0             0\n",
       "2019-12-31  156.77  157.77  156.45  157.70  18369400          0             0\n",
       "2020-01-02  158.78  160.73  158.33  160.62  22622100          0             0\n",
       "2020-01-03  158.32  159.95  158.06  158.62  21116200          0             0"
      ]
     },
     "execution_count": 4,
     "metadata": {},
     "output_type": "execute_result"
    }
   ],
   "source": [
    "msft.history().head()"
   ]
  },
  {
   "cell_type": "markdown",
   "metadata": {},
   "source": [
    "## High Frequency Prediction\n",
    "Here, I attempt ot predict a stock price during one day. First, we download the data."
   ]
  },
  {
   "cell_type": "code",
   "execution_count": 30,
   "metadata": {},
   "outputs": [
    {
     "name": "stdout",
     "output_type": "stream",
     "text": [
      "[*********************100%***********************]  1 of 1 completed\n"
     ]
    },
    {
     "data": {
      "text/html": [
       "<div>\n",
       "<style scoped>\n",
       "    .dataframe tbody tr th:only-of-type {\n",
       "        vertical-align: middle;\n",
       "    }\n",
       "\n",
       "    .dataframe tbody tr th {\n",
       "        vertical-align: top;\n",
       "    }\n",
       "\n",
       "    .dataframe thead th {\n",
       "        text-align: right;\n",
       "    }\n",
       "</style>\n",
       "<table border=\"1\" class=\"dataframe\">\n",
       "  <thead>\n",
       "    <tr style=\"text-align: right;\">\n",
       "      <th></th>\n",
       "      <th>Open</th>\n",
       "      <th>High</th>\n",
       "      <th>Low</th>\n",
       "      <th>Close</th>\n",
       "      <th>Adj Close</th>\n",
       "      <th>Volume</th>\n",
       "    </tr>\n",
       "    <tr>\n",
       "      <th>Datetime</th>\n",
       "      <th></th>\n",
       "      <th></th>\n",
       "      <th></th>\n",
       "      <th></th>\n",
       "      <th></th>\n",
       "      <th></th>\n",
       "    </tr>\n",
       "  </thead>\n",
       "  <tbody>\n",
       "    <tr>\n",
       "      <th>2020-01-24 04:15:00-05:00</th>\n",
       "      <td>320.33</td>\n",
       "      <td>320.50</td>\n",
       "      <td>320.33</td>\n",
       "      <td>320.50</td>\n",
       "      <td>320.50</td>\n",
       "      <td>0</td>\n",
       "    </tr>\n",
       "    <tr>\n",
       "      <th>2020-01-24 04:20:00-05:00</th>\n",
       "      <td>320.50</td>\n",
       "      <td>320.50</td>\n",
       "      <td>320.50</td>\n",
       "      <td>320.50</td>\n",
       "      <td>320.50</td>\n",
       "      <td>0</td>\n",
       "    </tr>\n",
       "    <tr>\n",
       "      <th>2020-01-24 04:24:00-05:00</th>\n",
       "      <td>320.66</td>\n",
       "      <td>320.66</td>\n",
       "      <td>320.66</td>\n",
       "      <td>320.66</td>\n",
       "      <td>320.66</td>\n",
       "      <td>0</td>\n",
       "    </tr>\n",
       "    <tr>\n",
       "      <th>2020-01-24 04:38:00-05:00</th>\n",
       "      <td>320.52</td>\n",
       "      <td>320.52</td>\n",
       "      <td>320.52</td>\n",
       "      <td>320.52</td>\n",
       "      <td>320.52</td>\n",
       "      <td>0</td>\n",
       "    </tr>\n",
       "    <tr>\n",
       "      <th>2020-01-24 04:42:00-05:00</th>\n",
       "      <td>320.56</td>\n",
       "      <td>320.56</td>\n",
       "      <td>320.56</td>\n",
       "      <td>320.56</td>\n",
       "      <td>320.56</td>\n",
       "      <td>0</td>\n",
       "    </tr>\n",
       "  </tbody>\n",
       "</table>\n",
       "</div>"
      ],
      "text/plain": [
       "                             Open    High     Low   Close  Adj Close  Volume\n",
       "Datetime                                                                    \n",
       "2020-01-24 04:15:00-05:00  320.33  320.50  320.33  320.50     320.50       0\n",
       "2020-01-24 04:20:00-05:00  320.50  320.50  320.50  320.50     320.50       0\n",
       "2020-01-24 04:24:00-05:00  320.66  320.66  320.66  320.66     320.66       0\n",
       "2020-01-24 04:38:00-05:00  320.52  320.52  320.52  320.52     320.52       0\n",
       "2020-01-24 04:42:00-05:00  320.56  320.56  320.56  320.56     320.56       0"
      ]
     },
     "execution_count": 30,
     "metadata": {},
     "output_type": "execute_result"
    }
   ],
   "source": [
    "# Your IP must be authorized with the proxy\n",
    "aapl = yf.download(tickers='AAPL',\n",
    "                   start='2020-1-24',\n",
    "                   end='2020-1-25',\n",
    "                   group_by='ticker',\n",
    "                   interval='1m',\n",
    "                   prepost=True,\n",
    "                   threads=True,\n",
    "                   proxy='http:190.112.200.72:1212')\n",
    "aapl.head()"
   ]
  },
  {
   "cell_type": "markdown",
   "metadata": {},
   "source": [
    "Columns are added to `aapl` for various quantitiative interpretations of OHLC data."
   ]
  },
  {
   "cell_type": "code",
   "execution_count": 31,
   "metadata": {},
   "outputs": [
    {
     "data": {
      "text/html": [
       "<div>\n",
       "<style scoped>\n",
       "    .dataframe tbody tr th:only-of-type {\n",
       "        vertical-align: middle;\n",
       "    }\n",
       "\n",
       "    .dataframe tbody tr th {\n",
       "        vertical-align: top;\n",
       "    }\n",
       "\n",
       "    .dataframe thead th {\n",
       "        text-align: right;\n",
       "    }\n",
       "</style>\n",
       "<table border=\"1\" class=\"dataframe\">\n",
       "  <thead>\n",
       "    <tr style=\"text-align: right;\">\n",
       "      <th></th>\n",
       "      <th>Open</th>\n",
       "      <th>High</th>\n",
       "      <th>Low</th>\n",
       "      <th>Close</th>\n",
       "      <th>Adj Close</th>\n",
       "      <th>Open/Low</th>\n",
       "      <th>Open/High</th>\n",
       "      <th>Close/Low</th>\n",
       "      <th>Close/High</th>\n",
       "      <th>Volatility</th>\n",
       "      <th>Momentum</th>\n",
       "      <th>Volume</th>\n",
       "    </tr>\n",
       "    <tr>\n",
       "      <th>Datetime</th>\n",
       "      <th></th>\n",
       "      <th></th>\n",
       "      <th></th>\n",
       "      <th></th>\n",
       "      <th></th>\n",
       "      <th></th>\n",
       "      <th></th>\n",
       "      <th></th>\n",
       "      <th></th>\n",
       "      <th></th>\n",
       "      <th></th>\n",
       "      <th></th>\n",
       "    </tr>\n",
       "  </thead>\n",
       "  <tbody>\n",
       "    <tr>\n",
       "      <th>2020-01-24 04:15:00-05:00</th>\n",
       "      <td>320.33</td>\n",
       "      <td>320.50</td>\n",
       "      <td>320.33</td>\n",
       "      <td>320.50</td>\n",
       "      <td>320.50</td>\n",
       "      <td>1.0</td>\n",
       "      <td>0.99947</td>\n",
       "      <td>1.000531</td>\n",
       "      <td>1.0</td>\n",
       "      <td>0.00053</td>\n",
       "      <td>-0.000531</td>\n",
       "      <td>0</td>\n",
       "    </tr>\n",
       "    <tr>\n",
       "      <th>2020-01-24 04:20:00-05:00</th>\n",
       "      <td>320.50</td>\n",
       "      <td>320.50</td>\n",
       "      <td>320.50</td>\n",
       "      <td>320.50</td>\n",
       "      <td>320.50</td>\n",
       "      <td>1.0</td>\n",
       "      <td>1.00000</td>\n",
       "      <td>1.000000</td>\n",
       "      <td>1.0</td>\n",
       "      <td>0.00000</td>\n",
       "      <td>0.000000</td>\n",
       "      <td>0</td>\n",
       "    </tr>\n",
       "    <tr>\n",
       "      <th>2020-01-24 04:24:00-05:00</th>\n",
       "      <td>320.66</td>\n",
       "      <td>320.66</td>\n",
       "      <td>320.66</td>\n",
       "      <td>320.66</td>\n",
       "      <td>320.66</td>\n",
       "      <td>1.0</td>\n",
       "      <td>1.00000</td>\n",
       "      <td>1.000000</td>\n",
       "      <td>1.0</td>\n",
       "      <td>0.00000</td>\n",
       "      <td>0.000000</td>\n",
       "      <td>0</td>\n",
       "    </tr>\n",
       "    <tr>\n",
       "      <th>2020-01-24 04:38:00-05:00</th>\n",
       "      <td>320.52</td>\n",
       "      <td>320.52</td>\n",
       "      <td>320.52</td>\n",
       "      <td>320.52</td>\n",
       "      <td>320.52</td>\n",
       "      <td>1.0</td>\n",
       "      <td>1.00000</td>\n",
       "      <td>1.000000</td>\n",
       "      <td>1.0</td>\n",
       "      <td>0.00000</td>\n",
       "      <td>0.000000</td>\n",
       "      <td>0</td>\n",
       "    </tr>\n",
       "    <tr>\n",
       "      <th>2020-01-24 04:42:00-05:00</th>\n",
       "      <td>320.56</td>\n",
       "      <td>320.56</td>\n",
       "      <td>320.56</td>\n",
       "      <td>320.56</td>\n",
       "      <td>320.56</td>\n",
       "      <td>1.0</td>\n",
       "      <td>1.00000</td>\n",
       "      <td>1.000000</td>\n",
       "      <td>1.0</td>\n",
       "      <td>0.00000</td>\n",
       "      <td>0.000000</td>\n",
       "      <td>0</td>\n",
       "    </tr>\n",
       "  </tbody>\n",
       "</table>\n",
       "</div>"
      ],
      "text/plain": [
       "                             Open    High     Low   Close  Adj Close  \\\n",
       "Datetime                                                               \n",
       "2020-01-24 04:15:00-05:00  320.33  320.50  320.33  320.50     320.50   \n",
       "2020-01-24 04:20:00-05:00  320.50  320.50  320.50  320.50     320.50   \n",
       "2020-01-24 04:24:00-05:00  320.66  320.66  320.66  320.66     320.66   \n",
       "2020-01-24 04:38:00-05:00  320.52  320.52  320.52  320.52     320.52   \n",
       "2020-01-24 04:42:00-05:00  320.56  320.56  320.56  320.56     320.56   \n",
       "\n",
       "                           Open/Low  Open/High  Close/Low  Close/High  \\\n",
       "Datetime                                                                \n",
       "2020-01-24 04:15:00-05:00       1.0    0.99947   1.000531         1.0   \n",
       "2020-01-24 04:20:00-05:00       1.0    1.00000   1.000000         1.0   \n",
       "2020-01-24 04:24:00-05:00       1.0    1.00000   1.000000         1.0   \n",
       "2020-01-24 04:38:00-05:00       1.0    1.00000   1.000000         1.0   \n",
       "2020-01-24 04:42:00-05:00       1.0    1.00000   1.000000         1.0   \n",
       "\n",
       "                           Volatility  Momentum  Volume  \n",
       "Datetime                                                 \n",
       "2020-01-24 04:15:00-05:00     0.00053 -0.000531       0  \n",
       "2020-01-24 04:20:00-05:00     0.00000  0.000000       0  \n",
       "2020-01-24 04:24:00-05:00     0.00000  0.000000       0  \n",
       "2020-01-24 04:38:00-05:00     0.00000  0.000000       0  \n",
       "2020-01-24 04:42:00-05:00     0.00000  0.000000       0  "
      ]
     },
     "execution_count": 31,
     "metadata": {},
     "output_type": "execute_result"
    }
   ],
   "source": [
    "vol = (aapl['High'] - aapl['Low'])/aapl['High']\n",
    "p = (aapl['Open'] - aapl['Close'])/aapl['Open']\n",
    "ol = aapl['Open']/aapl['Low']\n",
    "oh = aapl['Open']/aapl['High']\n",
    "cl = aapl['Close']/aapl['Low']\n",
    "ch = aapl['Close']/aapl['High']\n",
    "aapl.insert(5, 'Open/Low', ol)\n",
    "aapl.insert(6, 'Open/High', oh)\n",
    "aapl.insert(7, 'Close/Low', cl)\n",
    "aapl.insert(8, 'Close/High', ch)\n",
    "aapl.insert(9, 'Volatility', vol)\n",
    "aapl.insert(10, 'Momentum', p)\n",
    "aapl.head()"
   ]
  },
  {
   "cell_type": "markdown",
   "metadata": {},
   "source": [
    "Here is a graph of the stock price."
   ]
  },
  {
   "cell_type": "code",
   "execution_count": 32,
   "metadata": {},
   "outputs": [
    {
     "data": {
      "image/png": "[encoded data removed]",
      "text/plain": [
       "<Figure size 432x288 with 1 Axes>"
      ]
     },
     "metadata": {},
     "output_type": "display_data"
    }
   ],
   "source": [
    "import matplotlib.pyplot as plt\n",
    "import seaborn as sns; sns.set()\n",
    "\n",
    "\n",
    "# Get date for title\n",
    "month = aapl.index[0].month\n",
    "day = aapl.index[0].day\n",
    "\n",
    "# Make graph of price\n",
    "plt.figure()\n",
    "plt.plot(aapl.index, aapl['Adj Close'])\n",
    "plt.title('Apple Stock Price on {0}/{1}'.format(month, day))\n",
    "plt.xlabel('Date and Time')\n",
    "plt.ylabel('Price (USD)')\n",
    "plt.xticks(rotation=30);"
   ]
  },
  {
   "cell_type": "markdown",
   "metadata": {},
   "source": [
    "### Multivariate LSTM Forecasting\n",
    "Here is an attempt at forecasting the stock prices in the afternoon after training on the data in the morning. First, missing data is dealt with."
   ]
  },
  {
   "cell_type": "code",
   "execution_count": 67,
   "metadata": {},
   "outputs": [],
   "source": [
    "import numpy as np\n",
    "\n",
    "X = aapl.loc[:, 'Open/Low':'Momentum'].values\n",
    "y = aapl['Adj Close'].values\n",
    "\n",
    "# Adjust y so that the target is the next price\n",
    "y = np.roll(y, -1)\n",
    "\n",
    "# Get ride of the last price because it has no target\n",
    "y = y[:-1]\n",
    "X = X[:-1]\n",
    "\n",
    "# Verify that there is no missing data\n",
    "assert(not np.any(np.isnan(y)))\n",
    "assert(not np.any(np.isnan(X)))"
   ]
  },
  {
   "cell_type": "markdown",
   "metadata": {},
   "source": [
    "The data is split into training and test data. It is also formatted in the way expected by the LSTM used."
   ]
  },
  {
   "cell_type": "code",
   "execution_count": 77,
   "metadata": {},
   "outputs": [],
   "source": [
    "n = int(X.shape[0]*.3/1)\n",
    "trainX = X[:n]\n",
    "trainy = y[:n]\n",
    "testX = X[n:]\n",
    "testy = y[n:]\n",
    "\n",
    "# Reshape for LSTM\n",
    "def LSTM_shape(X):\n",
    "    return X.reshape(X.shape[0], 1, X.shape[1])\n",
    "trainX = LSTM_shape(trainX)\n",
    "testX = LSTM_shape(testX)"
   ]
  },
  {
   "cell_type": "markdown",
   "metadata": {},
   "source": [
    "The LSTM is created and fit with the data."
   ]
  },
  {
   "cell_type": "code",
   "execution_count": 110,
   "metadata": {},
   "outputs": [],
   "source": [
    "from keras.models import Sequential\n",
    "from keras.layers import Dense\n",
    "from keras.layers import LSTM\n",
    "from keras.callbacks import EarlyStopping\n",
    "\n",
    "# Make network\n",
    "model = Sequential()\n",
    "model.add(LSTM(50, input_shape=(trainX.shape[1], trainX.shape[2])))\n",
    "model.add(Dense(1))\n",
    "model.compile(loss='mae', optimizer='adam')\n",
    "\n",
    "# Fit network\n",
    "es = EarlyStopping('loss')\n",
    "fit = model.fit(trainX, trainy, epochs=50,\n",
    "                batch_size=trainX.shape[0],\n",
    "                validation_data=(testX, testy), verbose=0,\n",
    "                shuffle=False, callbacks=[es])"
   ]
  },
  {
   "cell_type": "markdown",
   "metadata": {},
   "source": [
    "Here is a visualization of the history of the fit."
   ]
  },
  {
   "cell_type": "code",
   "execution_count": 111,
   "metadata": {},
   "outputs": [
    {
     "data": {
      "image/png": "[encoded data removed]",
      "text/plain": [
       "<Figure size 432x288 with 1 Axes>"
      ]
     },
     "metadata": {},
     "output_type": "display_data"
    }
   ],
   "source": [
    "plt.plot(fit.history['loss'], label='train')\n",
    "plt.plot(fit.history['val_loss'], '--', label='test',)\n",
    "plt.xlabel('epochs')\n",
    "plt.ylabel('loss')\n",
    "plt.title('History of Loss')\n",
    "plt.legend();"
   ]
  },
  {
   "cell_type": "markdown",
   "metadata": {},
   "source": [
    "Here is a visualization of the model prediction alongside the actual stock price"
   ]
  },
  {
   "cell_type": "code",
   "execution_count": 112,
   "metadata": {},
   "outputs": [
    {
     "data": {
      "image/png": "[encoded data removed]",
      "text/plain": [
       "<Figure size 432x288 with 1 Axes>"
      ]
     },
     "metadata": {},
     "output_type": "display_data"
    }
   ],
   "source": [
    "# Predict price\n",
    "ypred = model.predict(testX)\n",
    "\n",
    "# Make graph\n",
    "plt.plot(aapl.index, aapl['Adj Close'], label='Actual Price')\n",
    "plt.plot(aapl.index[n+1:], ypred, '--', label='Predicted Price')\n",
    "plt.title('Apple Stock Price on {0}/{1}'.format(month, day))\n",
    "plt.xlabel('Date and Time')\n",
    "plt.ylabel('Price (USD)')\n",
    "plt.legend()\n",
    "plt.xticks(rotation=30);"
   ]
  },
  {
   "cell_type": "markdown",
   "metadata": {},
   "source": [
    "Something has gone really wrong."
   ]
  }
 ],
 "metadata": {
  "kernelspec": {
   "display_name": "Python 3",
   "language": "python",
   "name": "python3"
  },
  "language_info": {
   "codemirror_mode": {
    "name": "ipython",
    "version": 3
   },
   "file_extension": ".py",
   "mimetype": "text/x-python",
   "name": "python",
   "nbconvert_exporter": "python",
   "pygments_lexer": "ipython3",
   "version": "3.7.5"
  }
 },
 "nbformat": 4,
 "nbformat_minor": 4
}
