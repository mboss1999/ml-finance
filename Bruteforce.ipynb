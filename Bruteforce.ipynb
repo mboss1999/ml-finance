{
 "cells": [
  {
   "cell_type": "markdown",
   "metadata": {},
   "source": [
    "# DO NOT USE\n",
    "We only get 5 API calls a minute."
   ]
  },
  {
   "cell_type": "code",
   "execution_count": null,
   "metadata": {
    "scrolled": true
   },
   "outputs": [],
   "source": [
    "import pandas as pd\n",
    "import get_data\n",
    "import save_data_to_csv as save\n",
    "import time\n",
    "import numpy as np\n",
    "\n",
    "\n",
    "table=pd.read_html('https://en.wikipedia.org/wiki/List_of_S%26P_500_companies')\n",
    "sp_ticks = table[0]['Symbol']\n",
    "counter = 0\n",
    "# for sym in sp_ticks:\n",
    "#     try:\n",
    "#         save.save_dataset(sym, timeframe='daily')\n",
    "#         counter += 1\n",
    "#         print(counter)\n",
    "#         time.sleep(12.1)\n",
    "#     except:\n",
    "#         continue\n",
    "# at 210 (so around 291 total???)"
   ]
  },
  {
   "cell_type": "code",
   "execution_count": null,
   "metadata": {},
   "outputs": [],
   "source": [
    "# from here on out sp_ticks is unnecessary\n",
    "sp_adj_closes = {}\n",
    "for n in range(250):\n",
    "    try:\n",
    "        sp_adj_closes[sp_ticks[n]] = get_data.get_data(sp_ticks[n]).sort_values('date')['5. adjusted close']\n",
    "    except:\n",
    "        pass\n",
    "sp_adj_closes['MMM']"
   ]
  },
  {
   "cell_type": "code",
   "execution_count": null,
   "metadata": {},
   "outputs": [],
   "source": [
    "trend_days = 30    # days\n",
    "drop_days = 1     # days\n",
    "drop_percent = .1  # percent\n",
    "time_after = 60   # days\n",
    "\n",
    "buy_date = '2018-01-04'\n",
    "sell_date = '2020-01-31'"
   ]
  },
  {
   "cell_type": "code",
   "execution_count": null,
   "metadata": {},
   "outputs": [],
   "source": [
    "sp_meta = {} # AAPL: (stock price at start date, stock price at end date, how much hold strat would've made, index in Series of start date, index in Series of end date)\n",
    "for tick in sp_adj_closes:\n",
    "    try:\n",
    "        price_data = sp_adj_closes[tick]\n",
    "        \n",
    "        buy_price = price_data.loc[buy_date]\n",
    "        sell_price = price_data.loc[sell_date]\n",
    "        hold_strat_earnings = sell_price - buy_price\n",
    "        \n",
    "        start_ind = price_data.index.get_loc(buy_date)\n",
    "        end_ind = price_data.index.get_loc(sell_date)\n",
    "        sp_meta[tick] = (buy_price, sell_price, hold_strat_earnings, start_ind, end_ind)\n",
    "        \n",
    "        print(\"If you had bought\", tick, \"on\", buy_date, \"and sold it on\", sell_date, \"you would have made\", hold_strat_earnings)\n",
    "    except:\n",
    "        pass"
   ]
  },
  {
   "cell_type": "code",
   "execution_count": null,
   "metadata": {},
   "outputs": [],
   "source": [
    "def sim(trend_days, drop_days, drop_percent, time_after):\n",
    "    wallet = 0\n",
    "    money_invested = 0\n",
    "    for tick in sp_adj_closes:\n",
    "        try:\n",
    "            buy_price, sell_price, hold_strat_earnings, start_ind, end_ind = sp_meta[tick]\n",
    "            price_data = sp_adj_closes[tick]\n",
    "            gains_counter = 0\n",
    "            drop_counter = 0 \n",
    "            for n in range(start_ind + trend_days, end_ind - time_after):\n",
    "                today_price = price_data[n]\n",
    "                drop_day_price = price_data[n+drop_days]\n",
    "                recovery_price = price_data[n+time_after]\n",
    "                stays_afloat = True\n",
    "                if price_data[n - trend_days] > today_price: # if the price didn't decrease\n",
    "                    stays_afloat = False\n",
    "#                 for j in range(n - trend_days, n):\n",
    "#                     if price_data[j + drop_days] < (1 - drop_percent) * price_data[j]:\n",
    "#                         stays_afloat = False\n",
    "#                         break\n",
    "                if stays_afloat:\n",
    "                    if drop_day_price <= (1 - drop_percent) * today_price:\n",
    "                        drop_counter += 1\n",
    "                        money_invested += drop_day_price\n",
    "                        wallet -= drop_day_price\n",
    "                        wallet += recovery_price\n",
    "                        #if price_data[n+time_after] >= price_data[n]:\n",
    "                        if recovery_price >= drop_day_price:\n",
    "                            gains_counter += 1                        \n",
    "        except:\n",
    "            pass\n",
    "    return(wallet, money_invested)"
   ]
  },
  {
   "cell_type": "code",
   "execution_count": null,
   "metadata": {},
   "outputs": [],
   "source": [
    "def optimize():\n",
    "    count = 0\n",
    "    data = []\n",
    "    for trend in range(5, 100, 5):\n",
    "        for drop in range(1, 10):\n",
    "            for drop_p in range(5, 20):\n",
    "                for rec in range(10, 200):\n",
    "                    wallet, money_invested = sim(trend, drop, drop_p / 100, rec)\n",
    "                    data.append(np.array([trend, drop, drop_p / 100, rec, wallet, money_invested]))\n",
    "                    count += 1\n",
    "                    #if count % 10 == 0:\n",
    "                    print(count)\n",
    "                    print(wallet, money_invested)\n",
    "    return np.array(data)"
   ]
  },
  {
   "cell_type": "code",
   "execution_count": null,
   "metadata": {},
   "outputs": [],
   "source": [
    "optimize()"
   ]
  },
  {
   "cell_type": "code",
   "execution_count": null,
   "metadata": {},
   "outputs": [],
   "source": []
  }
 ],
 "metadata": {
  "kernelspec": {
   "display_name": "Python 3",
   "language": "python",
   "name": "python3"
  },
  "language_info": {
   "codemirror_mode": {
    "name": "ipython",
    "version": 3
   },
   "file_extension": ".py",
   "mimetype": "text/x-python",
   "name": "python",
   "nbconvert_exporter": "python",
   "pygments_lexer": "ipython3",
   "version": "3.7.4"
  }
 },
 "nbformat": 4,
 "nbformat_minor": 2
}
