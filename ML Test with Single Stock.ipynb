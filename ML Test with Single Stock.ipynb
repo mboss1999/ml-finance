{
 "cells": [
  {
   "cell_type": "code",
   "execution_count": 227,
   "metadata": {},
   "outputs": [],
   "source": [
    "import get_data\n",
    "from sklearn.ensemble import GradientBoostingClassifier, RandomForestClassifier\n",
    "import pandas as pd\n",
    "from random import random"
   ]
  },
  {
   "cell_type": "markdown",
   "metadata": {},
   "source": [
    "# Single Stock Example"
   ]
  },
  {
   "cell_type": "markdown",
   "metadata": {},
   "source": [
    "hyperparameters to tune: `rec_days`, `pool_num`\n",
    "variablesto add: drop days??\n",
    "for AAPL, 30 recovery days is best, while for XOM, 10 is best\n",
    "\n",
    "We first get all the relevant data. We care about adjusted close and all technical indicators. The variables `drop_days`, `drop_percent`, and `rec_days` are used for the label and selecting rows for the dataset. BUT FIRST pick start and end dates."
   ]
  },
  {
   "cell_type": "code",
   "execution_count": 234,
   "metadata": {},
   "outputs": [
    {
     "name": "stdout",
     "output_type": "stream",
     "text": [
      "Training will start 2009-12-31 00:00:00\n"
     ]
    }
   ],
   "source": [
    "company = \"XOM\"\n",
    "\n",
    "all_data = get_data.get_data(company).sort_values('date').drop([\"1. open\", \"2. high\", \"3. low\", \"4. close\", \"6. volume\", \"7. dividend amount\", \"8. split coefficient\"], axis=1)\n",
    "all_data['recovered'] = 0\n",
    "all_data['drop'] = 0\n",
    "all_data['in range'] = 0\n",
    "all_data['test'] = [1 if random() < 0.25 else 0 for n in range(len(all_data))] # usually set to 0.25\n",
    "price_data = all_data['5. adjusted close']\n",
    "\n",
    "start_ind = all_data.index.get_loc(\"2009-12-31\")\n",
    "print(\"Training will start \" + str(all_data.index[start_ind]))"
   ]
  },
  {
   "cell_type": "code",
   "execution_count": 235,
   "metadata": {},
   "outputs": [
    {
     "name": "stdout",
     "output_type": "stream",
     "text": [
      "Training will end 2018-01-02 00:00:00\n"
     ]
    },
    {
     "name": "stderr",
     "output_type": "stream",
     "text": [
      "C:\\Users\\yugan\\Anaconda3\\lib\\site-packages\\ipykernel_launcher.py:10: SettingWithCopyWarning: \n",
      "A value is trying to be set on a copy of a slice from a DataFrame\n",
      "\n",
      "See the caveats in the documentation: http://pandas.pydata.org/pandas-docs/stable/user_guide/indexing.html#returning-a-view-versus-a-copy\n",
      "  # Remove the CWD from sys.path while we load stuff.\n",
      "C:\\Users\\yugan\\Anaconda3\\lib\\site-packages\\ipykernel_launcher.py:13: SettingWithCopyWarning: \n",
      "A value is trying to be set on a copy of a slice from a DataFrame\n",
      "\n",
      "See the caveats in the documentation: http://pandas.pydata.org/pandas-docs/stable/user_guide/indexing.html#returning-a-view-versus-a-copy\n",
      "  del sys.path[0]\n",
      "C:\\Users\\yugan\\Anaconda3\\lib\\site-packages\\ipykernel_launcher.py:17: SettingWithCopyWarning: \n",
      "A value is trying to be set on a copy of a slice from a DataFrame\n",
      "\n",
      "See the caveats in the documentation: http://pandas.pydata.org/pandas-docs/stable/user_guide/indexing.html#returning-a-view-versus-a-copy\n"
     ]
    }
   ],
   "source": [
    "final_set = []\n",
    "rec_days = 10\n",
    "end_ind = all_data.index.get_loc(\"2018-01-02\") # train with data until the end of 2018. 2019-2020 will be used as simulation.\n",
    "print(\"Training will end \" + str(all_data.index[end_ind]))\n",
    "\n",
    "drops = 0\n",
    "recs = 0\n",
    "for n in range(start_ind, end_ind):\n",
    "    date = all_data.index[n]\n",
    "    all_data['in range'][n] = 1\n",
    "    \n",
    "    if all_data[\"5. adjusted close\"][n-1] > all_data[\"5. adjusted close\"][n]:\n",
    "        all_data['drop'][n] = 1\n",
    "        drops += 1\n",
    "        if all_data[\"5. adjusted close\"][n + rec_days] > all_data[\"5. adjusted close\"][n]:\n",
    "            recs += 1\n",
    "            all_data['recovered'][n] = 1\n",
    "\n",
    "\n",
    "train_data = all_data[all_data['in range'] == 1]\n",
    "train_data = all_data[all_data['drop'] == 1]\n",
    "train_data = train_data.drop(columns=['drop', 'in range', '5. adjusted close'])\n",
    "assert(len(train_data) == drops)"
   ]
  },
  {
   "cell_type": "markdown",
   "metadata": {},
   "source": [
    "## Training\n",
    "We train the model. First, divide the training data into training and test data. Then preprocess."
   ]
  },
  {
   "cell_type": "code",
   "execution_count": 236,
   "metadata": {},
   "outputs": [
    {
     "name": "stdout",
     "output_type": "stream",
     "text": [
      "237 755\n"
     ]
    }
   ],
   "source": [
    "test_data = train_data[train_data['test'] == 1].drop(columns=['test'])\n",
    "train_data = train_data[train_data['test'] == 0].drop(columns=['test'])\n",
    "print(len(test_data), len(train_data))"
   ]
  },
  {
   "cell_type": "markdown",
   "metadata": {},
   "source": [
    "Train the model. And test it on the test_data created earlier."
   ]
  },
  {
   "cell_type": "code",
   "execution_count": 237,
   "metadata": {},
   "outputs": [
    {
     "name": "stdout",
     "output_type": "stream",
     "text": [
      "0.7679324894514767 accuracy\n"
     ]
    }
   ],
   "source": [
    "features = train_data.columns[:-1] # everything but 'recovered' is a feature\n",
    "y = train_data['recovered']\n",
    "\n",
    "# rfc = RandomForestClassifier(n_jobs=-1, n_estimators = 1000)\n",
    "rfc = GradientBoostingClassifier(n_estimators = 1000)\n",
    "rfc.fit(train_data[features], y)\n",
    "predictions = rfc.predict(test_data[features])\n",
    "assert(len(predictions) == len(test_data))\n",
    "\n",
    "eval = []\n",
    "for n in range(len(predictions)):\n",
    "    eval.append(int(predictions[n] == test_data['recovered'][n]))\n",
    "print(str(sum(eval) / len(eval)) + \" accuracy\")"
   ]
  },
  {
   "cell_type": "markdown",
   "metadata": {},
   "source": [
    "Now that we know it works, retrain with most of the data -- go back to 2nd code cell and change `all_data['test']` to  `[1 if random() < 0.01 else 0 for n in range(len(all_data))]`"
   ]
  },
  {
   "cell_type": "markdown",
   "metadata": {},
   "source": [
    "## Simulating buying"
   ]
  },
  {
   "cell_type": "code",
   "execution_count": 238,
   "metadata": {},
   "outputs": [],
   "source": [
    "pools = 15\n",
    "principal = 2000"
   ]
  },
  {
   "cell_type": "code",
   "execution_count": 239,
   "metadata": {},
   "outputs": [
    {
     "name": "stdout",
     "output_type": "stream",
     "text": [
      "2018-01-02 00:00:00\n",
      "2018-01-31 00:00:00\n",
      "2018-03-01 00:00:00\n",
      "2018-03-29 00:00:00\n",
      "2018-04-27 00:00:00\n",
      "2018-05-25 00:00:00\n",
      "2018-06-25 00:00:00\n",
      "2018-07-24 00:00:00\n",
      "2018-08-21 00:00:00\n",
      "2018-09-19 00:00:00\n",
      "2018-10-17 00:00:00\n",
      "2018-11-14 00:00:00\n",
      "2018-12-14 00:00:00\n",
      "2019-01-15 00:00:00\n",
      "2019-02-13 00:00:00\n",
      "2019-03-14 00:00:00\n",
      "2019-04-11 00:00:00\n",
      "2019-05-10 00:00:00\n",
      "2019-06-10 00:00:00\n",
      "2019-07-09 00:00:00\n",
      "2019-08-06 00:00:00\n",
      "2019-09-04 00:00:00\n",
      "2019-10-02 00:00:00\n",
      "2019-10-30 00:00:00\n",
      "2019-11-27 00:00:00\n",
      "2019-12-27 00:00:00\n",
      "2020-01-28 00:00:00\n",
      "127.78969143564906\n",
      "122.10256085413079\n",
      "121.59350031103138\n",
      "132.13372201392892\n",
      "125.4999994266611\n",
      "128.59550291299533\n",
      "123.20432533686098\n",
      "103.63697410912931\n",
      "108.85045538056458\n",
      "107.82354353898444\n",
      "111.17790055000049\n",
      "123.67534733855445\n",
      "126.1514007585079\n",
      "125.32307607452506\n",
      "132.93344209560908\n",
      "272.3408133198127 1820.491442137133\n"
     ]
    }
   ],
   "source": [
    "def sim(model, features, all_data, start_ind, end_ind, recovery, pool_num, principal, wallet_factor):\n",
    "    '''\n",
    "    Notes:\n",
    "    start_ind should be the old end_ind, since the training data goes up to end_ind.\n",
    "    end_ind should be current day\n",
    "    model should be fit\n",
    "    '''\n",
    "    wallet = 0\n",
    "    # [[money, in_use, days_from_buy]] :\n",
    "    virtual_wallet = [[principal / pool_num, False, 0] for n in range(pool_num)]\n",
    "    pool_counter = 0\n",
    "    \n",
    "    for n in range(start_ind, end_ind):\n",
    "        date = all_data.index[n]\n",
    "        if n % 20 == 0:\n",
    "            print(date)\n",
    "        # beginning of day actions -- sell a stock if it's reached its recovery time\n",
    "        pools_taken = True\n",
    "        for pool in virtual_wallet:\n",
    "            pools_taken = pools_taken * pool[1]\n",
    "            if pool[1]:\n",
    "                pool[2] += 1\n",
    "            if pool[2] == recovery:\n",
    "                # SELL SELL SELL, reset the pool\n",
    "                pool[1] = False\n",
    "                pool[2] = 0\n",
    "                buy_price = all_data['5. adjusted close'][n - recovery] # should be the \"today_price\"\n",
    "                sell_price = all_data['5. adjusted close'][n]\n",
    "                pool[0] = pool[0] + (pool[0] / buy_price) * (sell_price - buy_price)\n",
    "                if pool[0] > (principal / pool_num): # if the pool is bigger than the original amount:\n",
    "                    wallet += (pool[0] - (principal / pool_num)) * wallet_factor\n",
    "                    pool[0] = pool[0] - ((pool[0] - (principal / pool_num)) * wallet_factor)\n",
    "                if pool[0] < 1:\n",
    "                    print(\"your pool died\")\n",
    "                    raise\n",
    "        if pools_taken == 1: # no point doing anything if there are no pools available to invest from\n",
    "            continue\n",
    "            \n",
    "        # check if a purchase should be made for the day\n",
    "        today_data = all_data[features].iloc[[n]]\n",
    "        if model.predict(today_data) == 1:\n",
    "            # BUY BUY BUY\n",
    "            while virtual_wallet[pool_counter][1]: # go to the next available pool\n",
    "                pool_counter += 1\n",
    "                pool_counter = pool_counter % pool_num\n",
    "\n",
    "            virtual_wallet[pool_counter][1] = True # this pool is in_use\n",
    "            pool_counter += 1\n",
    "            pool_counter = pool_counter % pool_num\n",
    "            \n",
    "    return(wallet, virtual_wallet)\n",
    "\n",
    "w, vw = sim(rfc, features, all_data, end_ind, all_data.index.get_loc(\"2020-01-31\"), rec_days, pools, principal, 1)\n",
    "total_money_made = 0\n",
    "for pool in vw:\n",
    "    print(pool[0])\n",
    "    total_money_made += pool[0]\n",
    "print(w, total_money_made)"
   ]
  },
  {
   "cell_type": "code",
   "execution_count": null,
   "metadata": {},
   "outputs": [],
   "source": []
  },
  {
   "cell_type": "code",
   "execution_count": null,
   "metadata": {},
   "outputs": [],
   "source": []
  }
 ],
 "metadata": {
  "kernelspec": {
   "display_name": "Python 3",
   "language": "python",
   "name": "python3"
  },
  "language_info": {
   "codemirror_mode": {
    "name": "ipython",
    "version": 3
   },
   "file_extension": ".py",
   "mimetype": "text/x-python",
   "name": "python",
   "nbconvert_exporter": "python",
   "pygments_lexer": "ipython3",
   "version": "3.7.4"
  }
 },
 "nbformat": 4,
 "nbformat_minor": 2
}
